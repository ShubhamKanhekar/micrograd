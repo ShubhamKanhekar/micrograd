{
 "cells": [
  {
   "cell_type": "code",
   "execution_count": 3,
   "metadata": {},
   "outputs": [],
   "source": [
    "from source.engine import Value\n",
    "from source import nn\n",
    "import torch\n"
   ]
  },
  {
   "cell_type": "code",
   "execution_count": 4,
   "metadata": {},
   "outputs": [
    {
     "name": "stdout",
     "output_type": "stream",
     "text": [
      "Value(12.0, grad= 0.0) Value(0.9999999999244973, grad= 0.0)\n"
     ]
    }
   ],
   "source": [
    "a= Value(2.0, label='a')\n",
    "b= Value(3.0, label = 'b')\n",
    "c=a+b; c.label='c'\n",
    "d= c+1; d.label='d'\n",
    "e= d*a; e.label='e'\n",
    "f= e.tanh()\n",
    "print(e, f)\n",
    "# '''\n",
    "# # print('The children of e are as follows: ')\n",
    "# # for child in e.children:    \n",
    "# #     print('\\t', child.label, '==>', child.data)\n",
    "# # print('The operation of e is ', e._op)\n",
    "\n",
    "# # testing lines\n",
    "# # topo(e)\n",
    "# # print([x.label for x in topolist])\n",
    "# # e.grad=1.0\n",
    "# # e._backward()\n",
    "# # print(e.grad)\n",
    "# # print(d.grad)\n",
    "# # print(a.grad)\n",
    "# # d._backward()\n",
    "# # print(c.grad)\n",
    "# # print(a.grad)\n",
    "# # c._backward()\n",
    "# # print(a.grad)\n",
    "# '''\n",
    "\n",
    "\n",
    "# f.backward()\n",
    "# print(f.grad)\n",
    "# print(d.grad)\n",
    "# print(a.grad)"
   ]
  },
  {
   "cell_type": "markdown",
   "metadata": {},
   "source": [
    "<h1>Trying to use mnisk_NN.csv to train a NN</h1>\n"
   ]
  },
  {
   "cell_type": "code",
   "execution_count": 5,
   "metadata": {},
   "outputs": [],
   "source": [
    "import pandas as pd\n",
    "import numpy as np\n"
   ]
  },
  {
   "cell_type": "code",
   "execution_count": 6,
   "metadata": {},
   "outputs": [
    {
     "name": "stdout",
     "output_type": "stream",
     "text": [
      "42000 785\n"
     ]
    },
    {
     "data": {
      "text/html": [
       "<div>\n",
       "<style scoped>\n",
       "    .dataframe tbody tr th:only-of-type {\n",
       "        vertical-align: middle;\n",
       "    }\n",
       "\n",
       "    .dataframe tbody tr th {\n",
       "        vertical-align: top;\n",
       "    }\n",
       "\n",
       "    .dataframe thead th {\n",
       "        text-align: right;\n",
       "    }\n",
       "</style>\n",
       "<table border=\"1\" class=\"dataframe\">\n",
       "  <thead>\n",
       "    <tr style=\"text-align: right;\">\n",
       "      <th></th>\n",
       "      <th>label</th>\n",
       "      <th>pixel0</th>\n",
       "      <th>pixel1</th>\n",
       "      <th>pixel2</th>\n",
       "      <th>pixel3</th>\n",
       "      <th>pixel4</th>\n",
       "      <th>pixel5</th>\n",
       "      <th>pixel6</th>\n",
       "      <th>pixel7</th>\n",
       "      <th>pixel8</th>\n",
       "      <th>...</th>\n",
       "      <th>pixel774</th>\n",
       "      <th>pixel775</th>\n",
       "      <th>pixel776</th>\n",
       "      <th>pixel777</th>\n",
       "      <th>pixel778</th>\n",
       "      <th>pixel779</th>\n",
       "      <th>pixel780</th>\n",
       "      <th>pixel781</th>\n",
       "      <th>pixel782</th>\n",
       "      <th>pixel783</th>\n",
       "    </tr>\n",
       "  </thead>\n",
       "  <tbody>\n",
       "    <tr>\n",
       "      <th>0</th>\n",
       "      <td>1</td>\n",
       "      <td>0</td>\n",
       "      <td>0</td>\n",
       "      <td>0</td>\n",
       "      <td>0</td>\n",
       "      <td>0</td>\n",
       "      <td>0</td>\n",
       "      <td>0</td>\n",
       "      <td>0</td>\n",
       "      <td>0</td>\n",
       "      <td>...</td>\n",
       "      <td>0</td>\n",
       "      <td>0</td>\n",
       "      <td>0</td>\n",
       "      <td>0</td>\n",
       "      <td>0</td>\n",
       "      <td>0</td>\n",
       "      <td>0</td>\n",
       "      <td>0</td>\n",
       "      <td>0</td>\n",
       "      <td>0</td>\n",
       "    </tr>\n",
       "    <tr>\n",
       "      <th>1</th>\n",
       "      <td>0</td>\n",
       "      <td>0</td>\n",
       "      <td>0</td>\n",
       "      <td>0</td>\n",
       "      <td>0</td>\n",
       "      <td>0</td>\n",
       "      <td>0</td>\n",
       "      <td>0</td>\n",
       "      <td>0</td>\n",
       "      <td>0</td>\n",
       "      <td>...</td>\n",
       "      <td>0</td>\n",
       "      <td>0</td>\n",
       "      <td>0</td>\n",
       "      <td>0</td>\n",
       "      <td>0</td>\n",
       "      <td>0</td>\n",
       "      <td>0</td>\n",
       "      <td>0</td>\n",
       "      <td>0</td>\n",
       "      <td>0</td>\n",
       "    </tr>\n",
       "    <tr>\n",
       "      <th>2</th>\n",
       "      <td>1</td>\n",
       "      <td>0</td>\n",
       "      <td>0</td>\n",
       "      <td>0</td>\n",
       "      <td>0</td>\n",
       "      <td>0</td>\n",
       "      <td>0</td>\n",
       "      <td>0</td>\n",
       "      <td>0</td>\n",
       "      <td>0</td>\n",
       "      <td>...</td>\n",
       "      <td>0</td>\n",
       "      <td>0</td>\n",
       "      <td>0</td>\n",
       "      <td>0</td>\n",
       "      <td>0</td>\n",
       "      <td>0</td>\n",
       "      <td>0</td>\n",
       "      <td>0</td>\n",
       "      <td>0</td>\n",
       "      <td>0</td>\n",
       "    </tr>\n",
       "    <tr>\n",
       "      <th>3</th>\n",
       "      <td>4</td>\n",
       "      <td>0</td>\n",
       "      <td>0</td>\n",
       "      <td>0</td>\n",
       "      <td>0</td>\n",
       "      <td>0</td>\n",
       "      <td>0</td>\n",
       "      <td>0</td>\n",
       "      <td>0</td>\n",
       "      <td>0</td>\n",
       "      <td>...</td>\n",
       "      <td>0</td>\n",
       "      <td>0</td>\n",
       "      <td>0</td>\n",
       "      <td>0</td>\n",
       "      <td>0</td>\n",
       "      <td>0</td>\n",
       "      <td>0</td>\n",
       "      <td>0</td>\n",
       "      <td>0</td>\n",
       "      <td>0</td>\n",
       "    </tr>\n",
       "    <tr>\n",
       "      <th>4</th>\n",
       "      <td>0</td>\n",
       "      <td>0</td>\n",
       "      <td>0</td>\n",
       "      <td>0</td>\n",
       "      <td>0</td>\n",
       "      <td>0</td>\n",
       "      <td>0</td>\n",
       "      <td>0</td>\n",
       "      <td>0</td>\n",
       "      <td>0</td>\n",
       "      <td>...</td>\n",
       "      <td>0</td>\n",
       "      <td>0</td>\n",
       "      <td>0</td>\n",
       "      <td>0</td>\n",
       "      <td>0</td>\n",
       "      <td>0</td>\n",
       "      <td>0</td>\n",
       "      <td>0</td>\n",
       "      <td>0</td>\n",
       "      <td>0</td>\n",
       "    </tr>\n",
       "  </tbody>\n",
       "</table>\n",
       "<p>5 rows × 785 columns</p>\n",
       "</div>"
      ],
      "text/plain": [
       "   label  pixel0  pixel1  pixel2  pixel3  pixel4  pixel5  pixel6  pixel7  \\\n",
       "0      1       0       0       0       0       0       0       0       0   \n",
       "1      0       0       0       0       0       0       0       0       0   \n",
       "2      1       0       0       0       0       0       0       0       0   \n",
       "3      4       0       0       0       0       0       0       0       0   \n",
       "4      0       0       0       0       0       0       0       0       0   \n",
       "\n",
       "   pixel8  ...  pixel774  pixel775  pixel776  pixel777  pixel778  pixel779  \\\n",
       "0       0  ...         0         0         0         0         0         0   \n",
       "1       0  ...         0         0         0         0         0         0   \n",
       "2       0  ...         0         0         0         0         0         0   \n",
       "3       0  ...         0         0         0         0         0         0   \n",
       "4       0  ...         0         0         0         0         0         0   \n",
       "\n",
       "   pixel780  pixel781  pixel782  pixel783  \n",
       "0         0         0         0         0  \n",
       "1         0         0         0         0  \n",
       "2         0         0         0         0  \n",
       "3         0         0         0         0  \n",
       "4         0         0         0         0  \n",
       "\n",
       "[5 rows x 785 columns]"
      ]
     },
     "execution_count": 6,
     "metadata": {},
     "output_type": "execute_result"
    }
   ],
   "source": [
    "df= pd.read_csv('..\\\\mnisk_NN\\\\train.csv')\n",
    "# df.shape\n",
    "m,n= df.shape\n",
    "print(m,n)\n",
    "\n",
    "df.head()"
   ]
  },
  {
   "cell_type": "code",
   "execution_count": 7,
   "metadata": {},
   "outputs": [
    {
     "data": {
      "text/plain": [
       "(42000,)"
      ]
     },
     "execution_count": 7,
     "metadata": {},
     "output_type": "execute_result"
    }
   ],
   "source": [
    "X= df.iloc[:, 1:n+1]\n",
    "Y= df.iloc[:, 0]\n",
    "# Y=Y.T\n",
    "Y.shape\n",
    "\n",
    "\n"
   ]
  },
  {
   "cell_type": "code",
   "execution_count": 8,
   "metadata": {},
   "outputs": [
    {
     "name": "stdout",
     "output_type": "stream",
     "text": [
      "      x_train.shape: (33600, 784)\t\t\n",
      "      x_test.shape: (8400, 784)\t\t\n",
      "      y_train.shape: (33600,)\t\t\n",
      "      y_test.shape: (8400,)\n"
     ]
    }
   ],
   "source": [
    "from sklearn.model_selection import train_test_split\n",
    "x_train, x_test, y_train, y_test= train_test_split(X,Y, test_size=0.2, random_state= 12)\n",
    "print(f'''      x_train.shape: {x_train.shape}\\t\\t\n",
    "      x_test.shape: {x_test.shape}\\t\\t\n",
    "      y_train.shape: {y_train.shape}\\t\\t\n",
    "      y_test.shape: {y_test.shape}''')"
   ]
  },
  {
   "cell_type": "code",
   "execution_count": 9,
   "metadata": {},
   "outputs": [
    {
     "data": {
      "text/plain": [
       "(33600, 10)"
      ]
     },
     "execution_count": 9,
     "metadata": {},
     "output_type": "execute_result"
    }
   ],
   "source": [
    "y_train=pd.get_dummies(y_train, dtype= int)\n",
    "y_test= pd.get_dummies(y_test, dtype= int)\n",
    "y_train.shape"
   ]
  },
  {
   "cell_type": "code",
   "execution_count": 10,
   "metadata": {},
   "outputs": [],
   "source": [
    "\n",
    "x_train = np.array(x_train)/255\n",
    "x_test = np.array(x_test)/255\n",
    "y_train = np.array(y_train)\n",
    "y_test = np.array(y_test)\n",
    "\n",
    "x_train = [[row for row in temp] for temp in x_train]\n",
    "x_test = [[row for row in temp] for temp in x_test]\n",
    "y_train = [[row for row in temp] for temp in y_train]\n",
    "y_test = [[row for row in temp] for temp in y_test]\n"
   ]
  },
  {
   "cell_type": "code",
   "execution_count": 11,
   "metadata": {},
   "outputs": [
    {
     "data": {
      "text/plain": [
       "10"
      ]
     },
     "execution_count": 11,
     "metadata": {},
     "output_type": "execute_result"
    }
   ],
   "source": [
    "len(y_train[0])"
   ]
  },
  {
   "cell_type": "code",
   "execution_count": 69,
   "metadata": {},
   "outputs": [],
   "source": [
    "import torch\n",
    "x_train= torch.tensor(x_train, dtype=torch.float32)\n",
    "x_test= torch.tensor(x_test, dtype=torch.float32)\n",
    "y_train= torch.tensor(y_train, dtype=torch.float32)\n",
    "y_test= torch.tensor(y_test, dtype=torch.float32)\n",
    "\n",
    "\n"
   ]
  },
  {
   "cell_type": "code",
   "execution_count": 12,
   "metadata": {},
   "outputs": [
    {
     "data": {
      "text/plain": [
       "[Layer of [ReLUNeuron(784), ReLUNeuron(784), ReLUNeuron(784), ReLUNeuron(784), ReLUNeuron(784), ReLUNeuron(784), ReLUNeuron(784), ReLUNeuron(784), ReLUNeuron(784), ReLUNeuron(784)],\n",
       " Layer of [LinearNeuron(10), LinearNeuron(10), LinearNeuron(10), LinearNeuron(10), LinearNeuron(10), LinearNeuron(10), LinearNeuron(10), LinearNeuron(10), LinearNeuron(10), LinearNeuron(10)]]"
      ]
     },
     "execution_count": 12,
     "metadata": {},
     "output_type": "execute_result"
    }
   ],
   "source": [
    "# the setup is done now lets create a mlp from the module 'nn'\n",
    "# nn: 784 Input layer nodes, 10 nodes in the hidden layer-1, 10 nodes in output layer(outputs/answers are 0 to 9)\n",
    "#\n",
    "mlp=nn.MLP(784,[10,10])\n",
    "mlp.layers\n",
    "\n"
   ]
  },
  {
   "cell_type": "code",
   "execution_count": 34,
   "metadata": {},
   "outputs": [
    {
     "name": "stdout",
     "output_type": "stream",
     "text": [
      "0 9.349787523110635\n",
      "1 9.514152964253919\n",
      "2 9.396691949613608\n",
      "3 9.247109533490276\n",
      "4 9.725406320578454\n",
      "5 9.265995134698956\n",
      "6 9.090639249967918\n",
      "7 9.506721870129123\n",
      "8 9.01048545834436\n",
      "9 9.106511024065965\n",
      "10 9.13220091613998\n",
      "11 8.797372440770337\n",
      "12 8.742350671728833\n",
      "13 8.709932823712963\n",
      "14 8.673485324501467\n",
      "15 8.821431161920406\n",
      "16 8.49232657867395\n",
      "17 8.652801697275507\n",
      "18 8.437083538589983\n",
      "19 8.377931340033976\n",
      "20 8.1575191291829\n",
      "21 8.4316915879034\n",
      "22 8.669018365677612\n",
      "23 8.325510399603989\n",
      "24 8.634919535695312\n",
      "25 8.03431096849233\n",
      "26 8.120562806629207\n",
      "27 7.763268697778568\n",
      "28 7.736786859498268\n",
      "29 7.834520166120077\n",
      "[9.349787523110635, 9.514152964253919, 9.396691949613608, 9.247109533490276, 9.725406320578454, 9.265995134698956, 9.090639249967918, 9.506721870129123, 9.01048545834436, 9.106511024065965, 9.13220091613998, 8.797372440770337, 8.742350671728833, 8.709932823712963, 8.673485324501467, 8.821431161920406, 8.49232657867395, 8.652801697275507, 8.437083538589983, 8.377931340033976, 8.1575191291829, 8.4316915879034, 8.669018365677612, 8.325510399603989, 8.634919535695312, 8.03431096849233, 8.120562806629207, 7.763268697778568, 7.736786859498268, 7.834520166120077]\n"
     ]
    }
   ],
   "source": [
    "epoch= 30\n",
    "learning_rate= 0.1\n",
    "losses= []\n",
    "\n",
    "for _ in range(epoch):\n",
    "    \n",
    "    # forward pass\n",
    "    ypred = [mlp(x) for x in x_train[0:100]]\n",
    "    ytemp = [[i.tanh() for i in temp] for temp in ypred] \n",
    "\n",
    "    loss=Value(0.0)\n",
    "    count=0\n",
    "    for i,j in zip(ytemp, y_train[0:100]):\n",
    "        seList =  [(a-b)**2 for a, b in zip(i,j)]\n",
    "        current_loss=Value(0.0)\n",
    "        for i in seList: current_loss += i\n",
    "        loss += current_loss\n",
    "    loss= loss*(1/len(ytemp))\n",
    "\n",
    "    # backward pass\n",
    "    for p in mlp.parameters():\n",
    "        p.grad= 0.0         #make previous grad = 0 \n",
    "        # print('process: backward pass...', end='\\r')\n",
    "    loss.backward()\n",
    "\n",
    "    # update\n",
    "    count=0\n",
    "    for p in mlp.parameters():\n",
    "        p.data+= -1* learning_rate * p.grad\n",
    "        count+=1\n",
    "        # print(f'updating parameters...{count}    ',end='\\r')\n",
    "    \n",
    "    print(_, loss.data) \n",
    "    losses.append(loss.data)\n",
    "    \n",
    "print(losses)\n"
   ]
  },
  {
   "cell_type": "code",
   "execution_count": 35,
   "metadata": {},
   "outputs": [],
   "source": [
    "l1      # l1 has losses after trained with 50 rows/entries and 30 epochs\n",
    "l2= [*losses]       #l2 has losses with 100 rows and 30 epochs\n"
   ]
  },
  {
   "cell_type": "code",
   "execution_count": 36,
   "metadata": {},
   "outputs": [
    {
     "data": {
      "image/png": "[encoded data removed]",
      "text/plain": [
       "<Figure size 640x480 with 1 Axes>"
      ]
     },
     "metadata": {},
     "output_type": "display_data"
    }
   ],
   "source": [
    "# l1 trained on 50 datasets/ rows and 30 epochs; \n",
    "import matplotlib.pyplot as plt\n",
    "# plt.scatter(y=losses,x=range(len(losses)))\n",
    "plt.plot(l1)\n",
    "plt.xlabel('Epoch')\n",
    "plt.ylabel('Loss')\n",
    "plt.show()"
   ]
  },
  {
   "cell_type": "code",
   "execution_count": 37,
   "metadata": {},
   "outputs": [
    {
     "data": {
      "image/png": "[encoded data removed]",
      "text/plain": [
       "<Figure size 640x480 with 1 Axes>"
      ]
     },
     "metadata": {},
     "output_type": "display_data"
    }
   ],
   "source": [
    "import matplotlib.pyplot as plt\n",
    "# plt.scatter(y=losses,x=range(len(losses)))\n",
    "plt.plot(l2)\n",
    "plt.xlabel('Epoch')\n",
    "plt.ylabel('Loss')\n",
    "plt.show()"
   ]
  },
  {
   "cell_type": "code",
   "execution_count": 43,
   "metadata": {},
   "outputs": [
    {
     "data": {
      "image/png": "[encoded data removed]",
      "text/plain": [
       "<Figure size 640x480 with 1 Axes>"
      ]
     },
     "metadata": {},
     "output_type": "display_data"
    }
   ],
   "source": [
    "plt.plot(l1)\n",
    "plt.plot(l2)\n",
    "plt.show()"
   ]
  },
  {
   "cell_type": "code",
   "execution_count": 18,
   "metadata": {},
   "outputs": [],
   "source": [
    "def find_max(liOfValues):\n",
    "    li= []\n",
    "    for value in liOfValues:\n",
    "        li.append(value.data) if isinstance(value, Value) else li.append(value)\n",
    "    return np.argmax(li)\n"
   ]
  },
  {
   "cell_type": "code",
   "execution_count": 22,
   "metadata": {},
   "outputs": [
    {
     "name": "stdout",
     "output_type": "stream",
     "text": [
      "Accuracy : 0.05\n",
      "Process Time :  0:03:33.314790\n"
     ]
    }
   ],
   "source": [
    "'''making predictions and checking Accuracy'''\n",
    "import datetime\n",
    "ti= datetime.datetime.now()\n",
    "y1pred=[mlp(x) for x in x_test[-100:]]\n",
    "y1act= y_test[-100:]\n",
    "trues= 0\n",
    "falses= 0\n",
    "for i,j in zip(y1pred, y1act):\n",
    "    if find_max(i)==find_max(j):trues+=1\n",
    "    else: falses+=1\n",
    "    # print(find_max(i)==find_max(j))\n",
    "\n",
    "print(f'Accuracy : {trues/(trues+falses)}')\n",
    "tf= datetime.datetime.now()\n",
    "print('Process Time : ',tf-ti)"
   ]
  },
  {
   "cell_type": "code",
   "execution_count": 56,
   "metadata": {},
   "outputs": [
    {
     "name": "stdout",
     "output_type": "stream",
     "text": [
      "Accuracy : 0.11\n"
     ]
    }
   ],
   "source": []
  }
 ],
 "metadata": {
  "kernelspec": {
   "display_name": "ds_env",
   "language": "python",
   "name": "ds_env"
  },
  "language_info": {
   "codemirror_mode": {
    "name": "ipython",
    "version": 3
   },
   "file_extension": ".py",
   "mimetype": "text/x-python",
   "name": "python",
   "nbconvert_exporter": "python",
   "pygments_lexer": "ipython3",
   "version": "3.10.10"
  }
 },
 "nbformat": 4,
 "nbformat_minor": 2
}
