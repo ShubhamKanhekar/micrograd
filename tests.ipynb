{
 "cells": [
  {
   "cell_type": "code",
   "execution_count": 3,
   "metadata": {},
   "outputs": [],
   "source": [
    "from source.engine import Value"
   ]
  },
  {
   "cell_type": "code",
   "execution_count": 4,
   "metadata": {},
   "outputs": [
    {
     "name": "stdout",
     "output_type": "stream",
     "text": [
      "Value(12.0, grad= 0.0) Value(0.9999999999244973, grad= 0.0)\n"
     ]
    }
   ],
   "source": [
    "a= Value(2.0, label='a')\n",
    "b= Value(3.0, label = 'b')\n",
    "c=a+b; c.label='c'\n",
    "d= c+1; d.label='d'\n",
    "e= d*a; e.label='e'\n",
    "f= e.tanh()\n",
    "print(e, f)\n",
    "# '''\n",
    "# # print('The children of e are as follows: ')\n",
    "# # for child in e.children:    \n",
    "# #     print('\\t', child.label, '==>', child.data)\n",
    "# # print('The operation of e is ', e._op)\n",
    "\n",
    "# # testing lines\n",
    "# # topo(e)\n",
    "# # print([x.label for x in topolist])\n",
    "# # e.grad=1.0\n",
    "# # e._backward()\n",
    "# # print(e.grad)\n",
    "# # print(d.grad)\n",
    "# # print(a.grad)\n",
    "# # d._backward()\n",
    "# # print(c.grad)\n",
    "# # print(a.grad)\n",
    "# # c._backward()\n",
    "# # print(a.grad)\n",
    "# '''\n",
    "\n",
    "\n",
    "# f.backward()\n",
    "# print(f.grad)\n",
    "# print(d.grad)\n",
    "# print(a.grad)"
   ]
  },
  {
   "cell_type": "code",
   "execution_count": null,
   "metadata": {},
   "outputs": [],
   "source": []
  }
 ],
 "metadata": {
  "kernelspec": {
   "display_name": "ds_env",
   "language": "python",
   "name": "ds_env"
  },
  "language_info": {
   "codemirror_mode": {
    "name": "ipython",
    "version": 3
   },
   "file_extension": ".py",
   "mimetype": "text/x-python",
   "name": "python",
   "nbconvert_exporter": "python",
   "pygments_lexer": "ipython3",
   "version": "3.10.10"
  }
 },
 "nbformat": 4,
 "nbformat_minor": 2
}
